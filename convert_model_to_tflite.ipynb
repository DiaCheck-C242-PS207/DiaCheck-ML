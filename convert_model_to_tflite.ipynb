{
 "cells": [
  {
   "cell_type": "markdown",
   "metadata": {},
   "source": [
    "## <b>Export Model</b>"
   ]
  },
  {
   "cell_type": "code",
   "execution_count": 4,
   "metadata": {},
   "outputs": [
    {
     "name": "stdout",
     "output_type": "stream",
     "text": [
      "INFO:tensorflow:Assets written to: C:\\Users\\ikmal\\AppData\\Local\\Temp\\tmpq4g07ez0\\assets\n"
     ]
    },
    {
     "name": "stderr",
     "output_type": "stream",
     "text": [
      "INFO:tensorflow:Assets written to: C:\\Users\\ikmal\\AppData\\Local\\Temp\\tmpq4g07ez0\\assets\n"
     ]
    },
    {
     "name": "stdout",
     "output_type": "stream",
     "text": [
      "Saved artifact at 'C:\\Users\\ikmal\\AppData\\Local\\Temp\\tmpq4g07ez0'. The following endpoints are available:\n",
      "\n",
      "* Endpoint 'serve'\n",
      "  args_0 (POSITIONAL_ONLY): TensorSpec(shape=(None, 7), dtype=tf.float32, name='input_layer_5')\n",
      "Output Type:\n",
      "  TensorSpec(shape=(None, 1), dtype=tf.float32, name=None)\n",
      "Captures:\n",
      "  2586666820256: TensorSpec(shape=(), dtype=tf.resource, name=None)\n",
      "  2586666825184: TensorSpec(shape=(), dtype=tf.resource, name=None)\n",
      "  2586666892128: TensorSpec(shape=(), dtype=tf.resource, name=None)\n",
      "  2586666890368: TensorSpec(shape=(), dtype=tf.resource, name=None)\n",
      "  2586666997664: TensorSpec(shape=(), dtype=tf.resource, name=None)\n",
      "  2586666998544: TensorSpec(shape=(), dtype=tf.resource, name=None)\n",
      "Model TensorFlow Lite telah disimpan di: diabetes.tflite\n"
     ]
    }
   ],
   "source": [
    "import tensorflow as tf\n",
    "\n",
    "# Muat model yang telah dilatih\n",
    "model = tf.keras.models.load_model('diabetes.h5', compile=False)\n",
    "\n",
    "# Konversi model ke format TensorFlow Lite\n",
    "converter = tf.lite.TFLiteConverter.from_keras_model(model)\n",
    "tflite_model = converter.convert()\n",
    "interpreter = tf.lite.Interpreter(model_content=tflite_model)\n",
    "interpreter.allocate_tensors()\n",
    "\n",
    "# Simpan model TFLite ke file\n",
    "tflite_model_name = 'diabetes.tflite'\n",
    "with open(tflite_model_name, 'wb') as f:\n",
    "    f.write(tflite_model)\n",
    "\n",
    "print(f\"Model TensorFlow Lite telah disimpan di: {tflite_model_name}\")"
   ]
  },
  {
   "cell_type": "markdown",
   "metadata": {},
   "source": [
    "## <b>Export Scaler</b>"
   ]
  },
  {
   "cell_type": "code",
   "execution_count": 5,
   "metadata": {},
   "outputs": [],
   "source": [
    "import joblib\n",
    "\n",
    "# Load scaler\n",
    "scaler = joblib.load('scaler.pkl')\n",
    "\n",
    "# Simpan parameter mean dan std\n",
    "scaler_params = {\n",
    "    'mean': scaler.mean_.tolist(),\n",
    "    'scale': scaler.scale_.tolist()\n",
    "}\n",
    "\n",
    "import json\n",
    "with open('scaler.json', 'w') as f:\n",
    "    json.dump(scaler_params, f)"
   ]
  }
 ],
 "metadata": {
  "kernelspec": {
   "display_name": "venv",
   "language": "python",
   "name": "python3"
  },
  "language_info": {
   "codemirror_mode": {
    "name": "ipython",
    "version": 3
   },
   "file_extension": ".py",
   "mimetype": "text/x-python",
   "name": "python",
   "nbconvert_exporter": "python",
   "pygments_lexer": "ipython3",
   "version": "3.10.7"
  }
 },
 "nbformat": 4,
 "nbformat_minor": 2
}
