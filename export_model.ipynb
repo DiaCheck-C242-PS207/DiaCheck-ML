{
 "cells": [
  {
   "cell_type": "markdown",
   "metadata": {
    "id": "KirD5STq3mrv"
   },
   "source": [
    "## <b>Export Model</b>"
   ]
  },
  {
   "cell_type": "code",
   "execution_count": null,
   "metadata": {
    "colab": {
     "base_uri": "https://localhost:8080/"
    },
    "id": "WkDkBnQo3mry",
    "outputId": "2aa3b8fe-d75f-4a69-a1a6-9c3fe3b3bfc8"
   },
   "outputs": [
    {
     "name": "stdout",
     "output_type": "stream",
     "text": [
      "Saved artifact at '/tmp/tmp4si76l7g'. The following endpoints are available:\n",
      "\n",
      "* Endpoint 'serve'\n",
      "  args_0 (POSITIONAL_ONLY): TensorSpec(shape=(None, 7), dtype=tf.float32, name='input_layer_5')\n",
      "Output Type:\n",
      "  TensorSpec(shape=(None, 1), dtype=tf.float32, name=None)\n",
      "Captures:\n",
      "  134418883380848: TensorSpec(shape=(), dtype=tf.resource, name=None)\n",
      "  134418883381024: TensorSpec(shape=(), dtype=tf.resource, name=None)\n",
      "  134418883585200: TensorSpec(shape=(), dtype=tf.resource, name=None)\n",
      "  134418883642816: TensorSpec(shape=(), dtype=tf.resource, name=None)\n",
      "  134418883653552: TensorSpec(shape=(), dtype=tf.resource, name=None)\n",
      "  134418883654608: TensorSpec(shape=(), dtype=tf.resource, name=None)\n"
     ]
    }
   ],
   "source": [
    "import tensorflow as tf\n",
    "\n",
    "model = tf.keras.models.load_model('diabetes.h5', compile=False)\n",
    "converter = tf.lite.TFLiteConverter.from_keras_model(model)\n",
    "tflite_model = converter.convert()\n",
    "\n",
    "# Simpan model TFLite ke file\n",
    "tflite_model_name = 'diabetes.tflite'\n",
    "with open(tflite_model_name, 'wb') as f:\n",
    "    f.write(tflite_model)"
   ]
  },
  {
   "cell_type": "markdown",
   "metadata": {
    "id": "3IAW2NmF3mr1"
   },
   "source": [
    "## <b>Export Scaler</b>"
   ]
  },
  {
   "cell_type": "code",
   "execution_count": 4,
   "metadata": {
    "id": "IXWBzU-W3mr2"
   },
   "outputs": [],
   "source": [
    "import joblib\n",
    "\n",
    "# Load scaler\n",
    "scaler = joblib.load('scaler.pkl')\n",
    "\n",
    "# Simpan parameter mean dan std\n",
    "scaler_params = {\n",
    "    'mean': scaler.mean_.tolist(),\n",
    "    'scale': scaler.scale_.tolist()\n",
    "}\n",
    "\n",
    "import json\n",
    "with open('scaler.json', 'w') as f:\n",
    "    json.dump(scaler_params, f)"
   ]
  }
 ],
 "metadata": {
  "accelerator": "GPU",
  "colab": {
   "gpuType": "T4",
   "provenance": []
  },
  "kernelspec": {
   "display_name": "venv",
   "language": "python",
   "name": "python3"
  },
  "language_info": {
   "codemirror_mode": {
    "name": "ipython",
    "version": 3
   },
   "file_extension": ".py",
   "mimetype": "text/x-python",
   "name": "python",
   "nbconvert_exporter": "python",
   "pygments_lexer": "ipython3",
   "version": "3.10.7"
  }
 },
 "nbformat": 4,
 "nbformat_minor": 0
}
